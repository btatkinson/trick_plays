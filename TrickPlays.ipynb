{
 "cells": [
  {
   "cell_type": "code",
   "execution_count": 1,
   "metadata": {},
   "outputs": [],
   "source": [
    "import pandas as pd\n",
    "import numpy as np"
   ]
  },
  {
   "cell_type": "code",
   "execution_count": 101,
   "metadata": {},
   "outputs": [
    {
     "name": "stderr",
     "output_type": "stream",
     "text": [
      "/usr/local/lib/python3.7/site-packages/IPython/core/interactiveshell.py:3049: DtypeWarning: Columns (42,166,167,174,175,178,179,182,183,188,189,190,191,203,204,205,231,232,233,238,240,241) have mixed types. Specify dtype option on import or set low_memory=False.\n",
      "  interactivity=interactivity, compiler=compiler, result=result)\n",
      "/usr/local/lib/python3.7/site-packages/IPython/core/interactiveshell.py:3049: DtypeWarning: Columns (166,167,168,169,174,175,178,179,182,183,188,189,190,191,194,195,203,204,205,218,219,220,231,232,233,238,240,241,249) have mixed types. Specify dtype option on import or set low_memory=False.\n",
      "  interactivity=interactivity, compiler=compiler, result=result)\n",
      "/usr/local/lib/python3.7/site-packages/IPython/core/interactiveshell.py:3049: DtypeWarning: Columns (37,38,39,42,46,47,166,167,168,169,172,173,174,175,176,177,178,179,182,183,184,185,188,189,190,191,192,193,194,195,198,199,203,204,205,224,225,226,227,231,232,233,238,240,241,244,245,246,250) have mixed types. Specify dtype option on import or set low_memory=False.\n",
      "  interactivity=interactivity, compiler=compiler, result=result)\n",
      "/usr/local/lib/python3.7/site-packages/IPython/core/interactiveshell.py:3049: DtypeWarning: Columns (166,167,168,169,174,175,178,179,182,183,188,189,190,191,198,199,200,201,202,203,204,205,207,209,211,226,227,231,232,233,238,240,241) have mixed types. Specify dtype option on import or set low_memory=False.\n",
      "  interactivity=interactivity, compiler=compiler, result=result)\n",
      "/usr/local/lib/python3.7/site-packages/IPython/core/interactiveshell.py:3049: DtypeWarning: Columns (166,167,168,169,178,179,182,183,188,189,190,191,194,195,198,199,203,204,205,226,227,231,232,233,238,240,241) have mixed types. Specify dtype option on import or set low_memory=False.\n",
      "  interactivity=interactivity, compiler=compiler, result=result)\n",
      "/usr/local/lib/python3.7/site-packages/IPython/core/interactiveshell.py:3049: DtypeWarning: Columns (42,166,167,168,169,174,175,178,179,182,183,188,189,190,191,203,204,205,231,232,233,238,240,241) have mixed types. Specify dtype option on import or set low_memory=False.\n",
      "  interactivity=interactivity, compiler=compiler, result=result)\n",
      "/usr/local/lib/python3.7/site-packages/IPython/core/interactiveshell.py:3049: DtypeWarning: Columns (42,166,167,174,175,178,179,182,183,188,189,203,204,205,231,232,233,238,240,241) have mixed types. Specify dtype option on import or set low_memory=False.\n",
      "  interactivity=interactivity, compiler=compiler, result=result)\n",
      "/usr/local/lib/python3.7/site-packages/IPython/core/interactiveshell.py:3049: DtypeWarning: Columns (167,168,169,170,175,176,179,180,183,184,189,190,191,192,195,196,199,200,204,205,206,227,228,232,233,234,239,241,242) have mixed types. Specify dtype option on import or set low_memory=False.\n",
      "  interactivity=interactivity, compiler=compiler, result=result)\n",
      "/usr/local/lib/python3.7/site-packages/ipykernel_launcher.py:8: FutureWarning: Sorting because non-concatenation axis is not aligned. A future version\n",
      "of pandas will change to not sort by default.\n",
      "\n",
      "To accept the future behavior, pass 'sort=False'.\n",
      "\n",
      "To retain the current behavior and silence the warning, pass 'sort=True'.\n",
      "\n",
      "  \n",
      "/usr/local/lib/python3.7/site-packages/IPython/core/interactiveshell.py:3049: DtypeWarning: Columns (41,173,174,175,176,199,200,227,228) have mixed types. Specify dtype option on import or set low_memory=False.\n",
      "  interactivity=interactivity, compiler=compiler, result=result)\n",
      "/usr/local/lib/python3.7/site-packages/ipykernel_launcher.py:11: FutureWarning: Sorting because non-concatenation axis is not aligned. A future version\n",
      "of pandas will change to not sort by default.\n",
      "\n",
      "To accept the future behavior, pass 'sort=False'.\n",
      "\n",
      "To retain the current behavior and silence the warning, pass 'sort=True'.\n",
      "\n",
      "  # This is added back by InteractiveShellApp.init_path()\n",
      "/usr/local/lib/python3.7/site-packages/IPython/core/interactiveshell.py:3049: DtypeWarning: Columns (42,167,168,169,170,175,176,179,180,183,184,189,190,191,192,199,200,204,205,206,227,228,232,233,234,239,241,242,250) have mixed types. Specify dtype option on import or set low_memory=False.\n",
      "  interactivity=interactivity, compiler=compiler, result=result)\n",
      "/usr/local/lib/python3.7/site-packages/IPython/core/interactiveshell.py:3049: DtypeWarning: Columns (169,170,173,174,175,176,177,178,183,184,185,186,199,200,227,228) have mixed types. Specify dtype option on import or set low_memory=False.\n",
      "  interactivity=interactivity, compiler=compiler, result=result)\n",
      "/usr/local/lib/python3.7/site-packages/IPython/core/interactiveshell.py:3049: DtypeWarning: Columns (42,167,168,169,170,179,180,183,184,189,190,191,192,199,200,201,202,203,204,205,206,208,210,212,227,228,229,230,231,232,233,234,235,237,238,239,241,242,250) have mixed types. Specify dtype option on import or set low_memory=False.\n",
      "  interactivity=interactivity, compiler=compiler, result=result)\n",
      "/usr/local/lib/python3.7/site-packages/IPython/core/interactiveshell.py:3049: DtypeWarning: Columns (42,175,176,181,182,191,192,199,200,208,210,212,227,228,235,237,238,250) have mixed types. Specify dtype option on import or set low_memory=False.\n",
      "  interactivity=interactivity, compiler=compiler, result=result)\n"
     ]
    },
    {
     "name": "stdout",
     "output_type": "stream",
     "text": [
      "(473782, 256)\n",
      "['kickoff' 'pass' 'run' 'punt' 'field_goal' 'no_play' nan 'extra_point'\n",
      " 'qb_kneel' 'qb_spike']\n"
     ]
    }
   ],
   "source": [
    "seasons = list(range(2009,2019))\n",
    "\n",
    "# merge seasons into one complete df\n",
    "df = pd.DataFrame()\n",
    "for season in seasons:\n",
    "    path = './data/nflscrapR-data/play_by_play_data/regular_season/reg_pbp_'+str(season)+'.csv'\n",
    "    season_df = pd.read_csv(path)\n",
    "    df = pd.concat([df, season_df], axis=0)\n",
    "    path = './data/nflscrapR-data/play_by_play_data/post_season/post_pbp_'+str(season)+'.csv'\n",
    "    post_season_df = pd.read_csv(path)\n",
    "    df = pd.concat([df, post_season_df], axis=0)\n",
    "print(df.shape)\n",
    "\n",
    "print(df['play_type'].unique())"
   ]
  },
  {
   "cell_type": "code",
   "execution_count": 90,
   "metadata": {},
   "outputs": [
    {
     "name": "stdout",
     "output_type": "stream",
     "text": [
      "Description (12:14) (No Huddle, Shotgun) M.Vick to WAS 10 for -6 yards (R.Kerrigan). FUMBLES (R.Kerrigan), touched at WAS 10, RECOVERED by WAS-D.Hall at WAS 25. D.Hall for 75 yards, TOUCHDOWN. Lateral batted by 91 - Kerrigan The Replay Assistant challenged the backward pass ruling, and the play was Upheld. \n",
      " EPA -12.8\n",
      "Description (11:14) (Shotgun) J.Tuel pass short right intended for T.Graham INTERCEPTED by S.Smith at KC 0. S.Smith for 100 yards, TOUCHDOWN. \n",
      " EPA -12.7\n",
      "Description (6:05) (Shotgun) M.Cassel sacked at DEN 25 for -17 yards (M.Haggan). FUMBLES (M.Haggan), RECOVERED by DEN-J.Hunter at DEN 25. J.Hunter for 75 yards, TOUCHDOWN. \n",
      " EPA -12.1\n",
      "Description (2:51) M.Vick pass short left intended for B.Celek INTERCEPTED by P.Robinson at NO 1. P.Robinson for 99 yards, TOUCHDOWN. PENALTY on PHI-M.Vick, Low Block, 15 yards, enforced between downs. The penalty for a low block during the interception return will be assessed on the ensuing kickoff. \n",
      " EPA -12.1\n",
      "Description (7:50) (Shotgun) E.Manning pass short left intended for H.Nicks INTERCEPTED by B.McCann at DAL -1. B.McCann for 101 yards, TOUCHDOWN. \n",
      " EPA -12.1\n",
      "Description (3:15) (Shotgun) B.Roethlisberger pass deep middle to J.Smith-Schuster for 97 yards, TOUCHDOWN. \n",
      " EPA 9.5\n",
      "Description (10:06) (Shotgun) C.Johnson up the middle for 91 yards, TOUCHDOWN. \n",
      " EPA 9.3\n",
      "Description (7:44) (Shotgun) C.Palmer pass short middle to M.Floyd for 91 yards, TOUCHDOWN. \n",
      " EPA 9.2\n",
      "Description (8:51) (Shotgun) P.Mahomes pass deep middle to D.Robinson for 89 yards, TOUCHDOWN. PENALTY on KC-D.Robinson, Taunting, 15 yards, enforced between downs. \n",
      " EPA 9.1\n",
      "Description (11:51) (Shotgun) D.Carr pass deep middle to A.Cooper for 87 yards, TOUCHDOWN. \n",
      " EPA 8.9\n"
     ]
    }
   ],
   "source": [
    "# df = df.sort_values(by=['epa'],ascending=True)\n",
    "# top_5 = df.head(5)\n",
    "# for index, row in top_5.iterrows():\n",
    "#     print(\"Description\",row['desc'],\"\\n\",\"EPA\",np.round(row['epa'],1))\n",
    "# df = df.sort_values(by=['epa'],ascending=False)\n",
    "# top_5 = df.head(5)\n",
    "# for index, row in top_5.iterrows():\n",
    "#     print(\"Description\",row['desc'],\"\\n\",\"EPA\",np.round(row['epa'],1))"
   ]
  },
  {
   "cell_type": "code",
   "execution_count": 179,
   "metadata": {},
   "outputs": [
    {
     "name": "stdout",
     "output_type": "stream",
     "text": [
      "473782\n",
      "197305\n"
     ]
    }
   ],
   "source": [
    "print(len(df))\n",
    "passes = df.loc[df.play_type=='pass']\n",
    "print(len(passes))"
   ]
  },
  {
   "cell_type": "code",
   "execution_count": 191,
   "metadata": {},
   "outputs": [
    {
     "name": "stdout",
     "output_type": "stream",
     "text": [
      "8\n",
      "2.075336279173448\n"
     ]
    }
   ],
   "source": [
    "# passes = passes.loc[passes.passer_player_name=='M.Sanu'] # for individual players\n",
    "passes = passes.loc[~passes.desc.str.contains('aborted|Aborted')]\n",
    "passes = passes.loc[~passes.desc.str.contains('Field Goal|Kick formation|Punt formation|Field Goal formation')]\n",
    "passes = passes.loc[~passes.desc.str.contains('TWO-POINT CONVERSION ATTEMPT')]\n",
    "passes = passes.loc[~passes.desc.str.contains('play under review|PENALTY')]\n",
    "passes = passes.loc[(passes.wp >= 0.1)&(passes.wp <= 0.9)]\n",
    "print(len(passes))\n"
   ]
  },
  {
   "cell_type": "code",
   "execution_count": 181,
   "metadata": {},
   "outputs": [],
   "source": [
    "# add column that counts how many times a player throws the ball in the dataset - RB's and WR's don't throw much obv\n",
    "passes['passer_count'] = passes.groupby(['passer_player_name'])['epa'].transform(\"count\")"
   ]
  },
  {
   "cell_type": "code",
   "execution_count": 184,
   "metadata": {},
   "outputs": [
    {
     "name": "stdout",
     "output_type": "stream",
     "text": [
      "66\n"
     ]
    }
   ],
   "source": [
    "new_pass = passes.loc[passes.passer_count <= 30]\n",
    "new_pass2 = passes.loc[passes.desc.str.contains('Flea|flea')]\n",
    "new_pass = pd.concat([new_pass,new_pass2],axis=0)\n",
    "print(len(new_pass))"
   ]
  },
  {
   "cell_type": "code",
   "execution_count": 185,
   "metadata": {},
   "outputs": [
    {
     "name": "stdout",
     "output_type": "stream",
     "text": [
      "66\n",
      "66\n"
     ]
    }
   ],
   "source": [
    "# doesn't catch everyone\n",
    "print(len(new_pass))\n",
    "\n",
    "blacklist = [\"D.Fales\",\"M.Brunell\",\"B.Croyle\",\"R.Smith\",\"T.Bouman\",\"T.Thigpen\",\"C.Shaw\",\"S.Mannion\",\"C.Simms\",\"J.O'Sullivan\",\"Shaun.Hill\",\"P.White\",\"M.Simms\",\"B.St. Pierre\",\"R.Bartel\",\"K.Allen\",\"J.Palmer\",\"L.Brown\",\"M.Kafka\",\"Ale.Smith\",\"J.Losman\",\"Matt.Moore\",\"Dom.Davis\",\"L.Thomas\",\"R.Nassib\",\"T.Boykin\",\"C.Jones\",\"C.Cook\",\"J.Callahan\",\"N.Sudfeld\",\"R.Griffin III\",\"K.Lauletta\",\"G.Gilbert\",\"J.Dobbs\",\"J.Rudock\",\"A.Tanney\",\"Jo.Freeman\",\"S.Renfree\",\"Mat.Moore\"]\n",
    "new_pass = new_pass.loc[~new_pass.passer_player_name.isin(blacklist)]\n",
    "new_pass = new_pass.loc[~new_pass.passer_player_name.str.contains('3rd QB')]\n",
    "runs = runs.loc[~runs.desc.str.contains('lateral|Lateral|reverse|Reverse')]\n",
    "\n",
    "print(len(new_pass))"
   ]
  },
  {
   "cell_type": "code",
   "execution_count": 186,
   "metadata": {},
   "outputs": [
    {
     "name": "stdout",
     "output_type": "stream",
     "text": [
      "T.Brady (10:02) T.Brady pass deep middle to R.Moss for 40 yards, TOUCHDOWN. flea flicker NE 81-Moss 136th career receiving TD (3rd best all-time) and 137th career TD (6th best all-time).\n",
      "M.Bulger (7:01) M.Bulger pass deep middle to D.Avery to IND 14 for 50 yards (A.Bethea). Flea-flicker\n",
      "M.Sanchez (6:45) NYJ #6 Sanchez handed off to #20 Jones then passed backward to Sanchez (Flea-flicker). M.Sanchez pass incomplete deep right to B.Edwards.\n",
      "T.Brady (9:40) M.LeVoir reported in as eligible.  T.Brady pass incomplete deep left to R.Moss. flea flicker\n",
      "M.Stafford (9:43) M.Stafford pass incomplete short right to C.Johnson. {Flea flicker }\n",
      "B.Roethlisberger (13:21) Flea-flicker play, hand-off to #34 Mendenhall. B.Roethlisberger pass short left to R.Mendenhall to PIT 35 for 11 yards (N.Barnett).\n",
      "D.Brees (6:57) D.Brees pass deep left to D.Henderson for 44 yards, TOUCHDOWN. Flea-flicker: #9 Brees handed off to #23 Thomas, who lateralled back to Brees, throwing to #19 Henderson for the touchdown.  Pass 42, YAC 2.\n",
      "M.Moore (12:54) M.Moore pass deep right intended for S.Smith INTERCEPTED by J.Laurinaitis [J.Hall] at CAR 41. J.Laurinaitis to CAR 37 for 4 yards (S.Smith). flea-flicker\n",
      "P.Rivers (2:50) P.Rivers pass short left to K.Wilson to HOU 22 for 37 yards (B.Pollard). flea-flicker\n",
      "T.Brady (14:24) T.Brady pass incomplete short right to W.Welker [A.Spievey]. Play was a flea-flicker.  QB hit as he released the ball.\n",
      "D.Brees (3:05) D.Brees pass incomplete deep middle to M.Colston (A.Ball). Pass incomplete on a fly pattern at the Dallas 25. flea-flicker\n",
      "B.Roethlisberger (7:56) B.Roethlisberger pass short right to R.Mendenhall pushed ob at PIT 50 for 9 yards (K.Rivers). Flea-flicker play to #34 Mendenhall.\n",
      "J.Flacco (12:25) J.Flacco pass short left to T.Heap to CIN 9 for 37 yards (M.Johnson, D.Jones). Flea flicker with handoff to Willis McGahee and pitch back to Joe Flacco for screen pass to Todd Heap.\n",
      "D.Brees (13:26) D.Brees pass incomplete deep left to D.Henderson. Flea-flicker: Brees handed off to #21 Jones, who passed backwards to Brees, who then threw for Henderson.\n",
      "P.Rivers (9:52) P.Rivers pass incomplete short right to B.Lloyd. flea flicker\n",
      "K.Kolb (10:28) K.Kolb pass incomplete deep middle to A.Roberts. Flea flicker to Chester Taylor and lateral to Kolb.\n",
      "S.Bradford (:32) S.Bradford pass deep middle intended for B.Lloyd INTERCEPTED by P.Peterson at ARI 10. P.Peterson to ARI 10 for no gain (B.Lloyd). flea-flicker\n",
      "C.Ponder (9:19) C.Ponder pass deep middle intended for D.Aromashodu INTERCEPTED by T.Williams [D.Bishop] at GB 2. T.Williams to GB 23 for 21 yards (J.Kleinsasser). flea-flicker\n",
      "J.Flacco (5:14) J.Flacco pass incomplete short left to A.Boldin. Flea flicker - Rice laterals back to Flacco.\n",
      "S.Bradford (:09) S.Bradford pass deep right to C.Givens to GB 49 for 19 yards (C.Woodson). Flea Flicker.\n",
      "R.Wilson (5:45) R.Wilson pass incomplete deep middle to S.Rice (A.Cromartie). Fleaflicker\n",
      "C.Kaepernick (3:16) C.Kaepernick pass incomplete deep middle to R.Moss. Flea-Flicker - F.Gore lateralled ball back to C.Kaepernick who passed deep into end zone.\n",
      "R.Wilson (14:21) R.Wilson pass deep left to G.Tate to BUF 10 for 44 yards (D.Searcy). Flea-flicker, handoff to M.Lynch followed by pitch back to R.Wilson. Pass caught at BUF 13.\n",
      "T.Brady (12:30) (No Huddle) T.Brady pass incomplete deep right to W.Welker. flea flicker\n",
      "C.Palmer (10:40) (Shotgun) C.Palmer pass short left to T.Pryor to OAK 44 for 22 yards (J.Phillips). Flea Flicker\n",
      "A.Dalton (7:25) A.Dalton pass incomplete short right to A.Green. {flea flicker; Dalton handed to Bernard, who flipped back to Dalton}\n",
      "M.Glennon (8:48) M.Glennon pass deep middle to T.Underwood for 48 yards, TOUCHDOWN. Play was a flea-flicker: Glennon handed off to #43 B.Rainey, who rushed to the line of scrimmage and lateralled back to Glennon, who passed deep to Underwood.  Pass 48, YAC 0\n",
      "A.Luck (10:23) A.Luck pass deep middle to D.Jackson for 36 yards, TOUCHDOWN. flea-flicker\n",
      "R.Wilson (4:40) R.Wilson pass incomplete short left to L.Willson. Flea-Flicker play involving M.Lynch. R.Wilson laterals ball to M.Lynch who laterals back to R.Wilson.\n",
      "B.Roethlisberger (10:22) Fleaflicker play after handoff to #26 Bell. B.Roethlisberger pass incomplete deep right to A.Brown.\n",
      "B.Roethlisberger (11:14) Flea-flicker play. Handoff to #26 Bell, toss back to #7 Roethlisberger. (No Huddle) B.Roethlisberger pass incomplete deep middle to A.Brown.\n",
      "M.Stafford (10:04) T.Swanson reported in as eligible.  M.Stafford pass incomplete deep right to G.Tate. Flea-flicker from Bell back to Stafford\n",
      "C.Palmer (7:14) C.Palmer pass incomplete deep right to M.Floyd. Fleaflicker play. Handoff to #38 ARI.\n",
      "A.Dalton (6:08) A.Dalton pass incomplete deep right to J.Gresham [C.Lofton]. Flea-flicker: Dalton handed off to Hill, who tossed back to Dalton, who threw quickly under pressure from Lofton.\n",
      "B.Roethlisberger (12:05) B.Roethlisberger pass incomplete short right. Pressure by 28-Lewis. Flea-flicker play.\n",
      "R.Lindley (11:01) R.Lindley pass deep middle to M.Floyd for 20 yards, TOUCHDOWN. Flea-Flicker Pass, M.Grice lateralled back to R.Lindley.\n",
      "A.Luck (11:04) A.Luck pass short right to J.Doyle to DEN 38 for 3 yards (V.Miller). flea-flicker\n",
      "D.Brees (14:26) D.Brees pass incomplete deep right to J.Nelson (B.Grimes). Flea-flicker play.\n",
      "J.Flacco (4:08) J.Flacco pass short middle to J.Forsett to SF 35 for 11 yards (A.Bethea, M.Wilhoite). Caught at SF 45.  10-yds YAC.  Pass on a flea-flicker play.\n",
      "T.Taylor (2:18) T.Taylor sacked at BUF 28 for -12 yards (R.Jones). Flea-flicker, pitched back from Ka.Willams after initial handoff.\n",
      "T.Taylor (2:09) L.McCoy at QB (T.Taylor at QB). Flea-flicker after handoff from L.McCoy to M.Thigpen. M.Thigpen pitched back to T.Taylor. (Shotgun) T.Taylor pass incomplete deep left to S.Watkins. Overthrown, receiver in front corner of end zone.\n",
      "T.Brady (12:12) C.Fleming reported in as eligible.  T.Brady pass incomplete deep middle to R.Gronkowski. flea flicker\n",
      "J.Flacco (9:08) J.Flacco pass incomplete short left to S.Smith [K.Mack]. Flea flicker\n",
      "R.Wilson (14:01) R.Wilson pass short left to T.McEvoy pushed ob at ATL 37 for 17 yards (K.Neal). Flea flicker from #32 to #3\n",
      "C.Keenum (7:04) C.Keenum pass incomplete short right to B.Quick (D.Rodgers-Cromartie). Flea flicker, Austin pass back to Keenum for the forward pass attempt\n",
      "D.Brees (6:57) D.Brees pass deep right to B.Coleman to SEA 11 for 38 yards (R.Sherman). Flea-flicker: Brees handed off to Hightower, who lateralled back to Brees, who threw deep.  Pass 28, YAC 10.\n",
      "C.Palmer (12:43) C.Palmer pass deep middle to L.Fitzgerald to SF 7 for 33 yards (E.Reid). Play came on a flea flicker.\n",
      "R.Griffin (7:57) R.Griffin pass deep right intended for T.Pryor Sr. INTERCEPTED by G.Iloka at CLE 47. G.Iloka to CLE 26 for 21 yards (D.Johnson Jr.). Handoff to 29 D Johnson pitch back to 10 R Griffin on Flea Flicker\n",
      "T.Savage (12:17) T.Savage pass incomplete deep right to W.Fuller [D.Skuta]. (This play was a Flea-Flicker.)\n",
      "T.Taylor (2:00) T.Taylor pass deep right to R.Woods pushed ob at MIA 7 for 34 yards (B.Rambo). Flea-flicker, pass after pitch-back from L.McCoy. Caught at MIA 17, near sideline after crossing from middle.\n",
      "D.Brees (2:24) D.Brees pass short right to W.Snead pushed ob at TB 46 for 14 yards (B.Grimes). Flea-flicker: Brees handed off to Ingram, who lateralled back to Brees, who then passed to Snead.  Pass 14, YAC 0\n",
      "T.Brady (7:54) Flea flicker-handoff to 33-Lewis then pitch back to Brady. T.Brady pass deep right to C.Hogan for 34 yards, TOUCHDOWN. NE 12-Brady 19th career postseason game with 2 pass TD, extends his NFL record (Favre, 15). NE 15-Hogan 1st career postseason 100-yard game.\n",
      "T.Brady (8:02) T.Brady pass incomplete short middle to J.White [J.Houston]. flea flicker\n",
      "D.Carr (8:19) Flea Flicker from #24 Lynch to #4 Carr. D.Carr pass deep left to A.Cooper for 38 yards, TOUCHDOWN. The Replay Official reviewed the runner broke the plane ruling, and the play was Upheld. The ruling on the field was confirmed.\n",
      "M.Mariota (2:04) (Shotgun) M.Mariota pass deep left to T.Taylor to CLE 31 for 17 yards (B.Boddy-Calhoun). Flea-Flicker - Handoff to 22 D. Henry, pitch back to 8 M. Mariota\n",
      "A.Dalton (11:17) Fleaflicker. First handoff went to 32-Hill. A.Dalton pass incomplete deep middle to A.Green [T.Watt]. Coverage by 25-Burns.\n",
      "T.Brady (7:56) T.Brady pass incomplete deep middle to B.Cooks (T.Boston). flea-flicker\n",
      "D.Prescott (4:10) Flea Flicker from #46 Morris to #4 Prescott. D.Prescott pass incomplete deep right to T.Williams (D.McDonald).\n",
      "D.Stanton (8:47) (Shotgun) D.Stanton pass deep right to L.Fitzgerald to NYG 18 for 19 yards (B.Dixon). Flea flicker.\n",
      "B.Bortles (2:48) B.Bortles pass short right to A.Hurns to JAX 49 for 15 yards (E.Rowe). flea flicker handoff to 24-Yeldon and pitch back to 5-Bortles\n",
      "T.Brady (10:19) (No Huddle) T.Brady pass deep left to P.Dorsett to JAX 23 for 31 yards (M.Jack). flea flicker\n",
      "J.Allen (14:29) J.Allen pass incomplete deep left to K.Benjamin. Overthrown, receiver at TEN 6. Flea-flicker, thrown under pressure by J.Casey.\n",
      "B.Mayfield (15:00) B.Mayfield pass incomplete deep right to D.Ratley. Hand off to 34 C. Hyde, flea flicker back to 6 B. Mayfield\n",
      "D.Anderson (10:20) (Shotgun) D.Anderson pass incomplete deep right to C.Clay. Flea-flicker, handoff to L.McCoy, flip to Z.Jones before toss to D.Anderson. Overthrown, receiver in flat at NE 15.\n",
      "D.Brees (8:26) D.Brees pass short left to M.Thomas pushed ob at 50 for 14 yards (M.Peters). Flea-flicker: Ingram took a handoff, lateralled back to Brees, and Brees through downfield.  Pass 10, YAC 4\n",
      "T.Brady (14:32) T.Brady pass deep left to J.Edelman pushed ob at GB 10 for 33 yards (T.Williams). flea flicker with 28-White\n"
     ]
    }
   ],
   "source": [
    "for index, row in new_pass.iterrows():\n",
    "    print(row['passer_player_name'], row['desc'])"
   ]
  },
  {
   "cell_type": "code",
   "execution_count": 188,
   "metadata": {},
   "outputs": [
    {
     "name": "stdout",
     "output_type": "stream",
     "text": [
      "0.5571306900427668\n",
      "1.7737544599026598\n",
      "0.49075287516501864\n",
      "1.6336522793953403\n",
      "66\n",
      "150959\n"
     ]
    }
   ],
   "source": [
    "print(new_pass.epa.mean())\n",
    "print(new_pass.epa.std())\n",
    "print(passes.epa.mean())\n",
    "print(passes.epa.std())\n",
    "print(len(new_pass))\n",
    "print(len(passes))"
   ]
  },
  {
   "cell_type": "code",
   "execution_count": 162,
   "metadata": {},
   "outputs": [],
   "source": [
    "runs = df.loc[df.play_type=='run']\n",
    "runs = runs.loc[~runs.desc.str.contains('PENALTY|Aborted|Penalty|TWO-POINT CONVERSION ATTEMPT')]\n",
    "runs = runs.loc[~runs.desc.str.contains('RECOVERED by WAS-D.Hall at WAS 25. D.Hall for 75 yards,')] # play i noticed that wasn't a trick play\n",
    "runs = runs.loc[(runs.wp >= 0.1)&(runs.wp <= 0.9)]"
   ]
  },
  {
   "cell_type": "code",
   "execution_count": 163,
   "metadata": {},
   "outputs": [
    {
     "name": "stdout",
     "output_type": "stream",
     "text": [
      "106811\n",
      "180\n"
     ]
    }
   ],
   "source": [
    "print(len(runs))\n",
    "new_runs = runs.loc[runs.desc.str.contains('lateral|Lateral|reverse|Reverse')]\n",
    "runs = runs.loc[~runs.desc.str.contains('lateral|Lateral|reverse|Reverse')] # remove trick plays from control dataset\n",
    "print(len(new_runs))"
   ]
  },
  {
   "cell_type": "code",
   "execution_count": 164,
   "metadata": {},
   "outputs": [
    {
     "name": "stdout",
     "output_type": "stream",
     "text": [
      "C.Ochocinco (4:25) C.Ochocinco right end to CIN 41 for 8 yards (C.Bailey). {Double reverse, Palmer to Coles to Ochocinco}\n",
      "B.Smith (8:38) B.Smith left end to NE 15 for 7 yards (S.Springs, J.Green). #6 Sanchez handed off to #29 Washington who handed off on the reverse to #16 B.Smith\n",
      "T.Owens (13:20) T.Owens left end to TB 41 for 13 yards (G.Adams, B.Ruud). Reverse, handoff from F.Jackson.\n",
      "R.Parrish (1:58) R.Parrish right end to BUF 36 for 9 yards (B.Ruud, W.Allen). Reverse, handoff from T.Edwards.\n",
      "M.Clayton (8:13) (No Huddle, Shotgun) M.Clayton right end to CLE 28 for 12 yards (M.Adams). Clayton carries ball on pitch from Flacco on reverse.\n",
      "J.Edelman (13:07) J.Edelman left end pushed ob at NE 38 for 5 yards (T.DeCoud). reverse\n",
      "R.Bush (5:36) R.Bush right end to BUF 36 for 14 yards (M.Stroud). Reverse, handoff from D.Brees. R.Bush lined up at WR.\n",
      "C.Johnson (6:39) #81 Johnson took the reverse handoff from #34 Smith C.Johnson left end to CHI 37 for 12 yards (D.Manning).\n",
      "M.Bradley (9:14) M.Bradley left end pushed ob at KC 16 for -2 yards (K.Brooking). D.Bowe received handoff from M.Cassell and handed off to M.Bradley on a reverse.\n",
      "T.Owens (5:22) (No Huddle) T.Owens right tackle to CLE 38 for 6 yards (K.Wimbley, E.Wright). Reverse, handoff from T.Edwards.\n",
      "M.Wallace (9:28) (Shotgun) M.Wallace right end to CLE 2 for 21 yards (A.Elam; J.Trusnik). Reverse from #34 Mendenhall.\n",
      "D.Thomas (11:56) D.Thomas left end to WAS 47 for 2 yards (B.Carr). Reverse from 26-Portis\n",
      "M.Clayton (13:40) (No Huddle, Shotgun) M.Clayton right end to DEN 20 for 4 yards (R.Hill). Clayton rushes on double reverse.\n",
      "J.Jones (13:21) J.Jones right end pushed ob at BUF 38 for 17 yards (J.Byrd). Reverse, handoff from M.Schaub.\n",
      "V.Jackson (7:03) (Shotgun) V.Jackson left end to NYG 47 for -4 yards (J.Tuck, M.Kiwanuka). NYG-M.Boley was injured during the play.  Double reverse involving #43 D. Sproles.\n",
      "M.Wallace (13:32) (Shotgun) M.Wallace left end to PIT 30 for 5 yards (J.McGraw). M.Wallace lined up wide right, took handoff from B.Roethlisberger on reverse.\n",
      "M.Barber (1:49) M.Barber right end pushed ob at WAS 38 for 2 yards (C.Wilson). Romo lateralled to Barber.\n",
      "W.Welker (3:34) W.Welker right end to NYJ 48 for 11 yards (J.Leonhard). reverse\n",
      "L.Long (14:18) L.Long left end to KC 29 for -1 yards (R.Corner). Ball lateralled to L.Long from M.Cassel.\n",
      "S.Smith (7:07) S.Smith left end ran ob at CAR 36 for 5 yards. reverse\n",
      "B.Smith (8:23) (Shotgun) B.Smith left end to TB 26 for -7 yards (T.Jackson). Reverse\n",
      "W.Welker (3:38) (Shotgun) W.Welker right tackle to 50 for 5 yards (T.McGee, G.Wilson). Reverse, handoff from K.Faulk after original handoff from T.Brady.\n",
      "R.Rice (4:59) (No Huddle) R.Rice left end to CHI 38 for 28 yards (K.Payne, A.Brown). Ray Rice lines up at WR and runs reverse.\n",
      "M.Thomas (5:34) M.Thomas left end pushed ob at JAC 35 for no gain (B.Meriweather). reverse\n",
      "C.Ochocinco (8:27) C.Ochocinco right end to CIN 48 for -2 yards (T.Jackson; C.Mays). {Reverse}\n",
      "C.Johnson (14:54) C.Johnson right end to DET 35 for 19 yards (P.Willis; D.Goldson). Johnson takes ball on reverse\n",
      "C.Johnson (13:39) C.Johnson right end to CHI 31 for 4 yards (N.Vasher). Play was a reverse from #28-M. Morris.\n",
      "D.Jackson (10:33) D.Jackson right end to PHI 42 for 5 yards (C.Houston; L.Delmas). Play was a reverse.\n",
      "M.Wallace (8:46) (Shotgun) M.Wallace left end to TB 46 for -1 yards (G.Hayes, S.White). double reverse\n",
      "A.Hernandez (9:10) A.Hernandez left end to NE 43 for 13 yards (D.Edwards). reverse\n",
      "B.Tate (6:06) B.Tate left end pushed ob at NE 29 for 5 yards (L.McKelvin). reverse\n",
      "D.Jackson (5:40) (Shotgun) J.Maclin left end to JAC 44 for -9 yards. Lateral to D.Jackson to JAC 27 for 17 yards (Da.Smith).\n",
      "B.Tate (1:12) (Shotgun) B.Tate left end to BAL 2 for 22 yards (T.Zbikowski). reverse\n",
      "J.Morgan (2:45) J.Morgan left end to CAR 28 for 4 yards (J.Anderson). Reverse to 84 Morgan, Josh\n",
      "D.Thomas (13:45) (Shotgun) D.Thomas left end to DEN 38 for no gain (J.Smith). reverse\n",
      "D.Gettis (3:39) D.Gettis right end to CAR 23 for -11 yards (C.Long). Reverse\n",
      "J.Ford (10:56) J.Ford left end to SEA 20 for 11 yards (E.Thomas). Reverse from Bush to Ford\n",
      "M.Sanchez (3:59) M.Sanchez scrambles left end ran ob at NYJ 42 for 3 yards. #6 Sanchez  hands off  to # 21Tomlinson   laterals  back to # 6\n",
      "J.Maclin (12:12) J.Maclin right end pushed ob at WAS 37 for 11 yards (D.Hall). Reverse from 10-Jackson\n",
      "D.Jones (3:00) D.Jones left end to CIN 48 for 1 yard (K.Rivers). {Reverse from S.Johnson to D.Jones}\n",
      "M.Wallace (7:26) (Shotgun) M.Wallace right end pushed ob at OAK 37 for 19 yards (S.Routt). Reverse play; first handoff went to #82 Randle El to left side.\n",
      "C.Johnson (3:10) C.Johnson left end to NE 33 for 15 yards (J.Mayo, K.Arrington). Play was a reverse.\n",
      "D.Stallworth (12:39) D.Stallworth right end to BAL 23 for -11 yards (L.Woodley). Reverse\n",
      "C.Johnson (11:25) C.Johnson left end pushed ob at GB 47 for 13 yards (N.Collins). Play was a reverse.\n",
      "M.Austin (9:11) M.Austin left end to PHI 14 for 26 yards (J.Hanson). Double reverse.\n",
      "D.Jackson (5:23) (Shotgun) D.Jackson left end ran ob at PHI 20 for 2 yards (M.Jenkins). Double reverse.\n",
      "A.Hernandez (11:21) A.Hernandez left end to 50 for 16 yards (N.Collins). reverse\n",
      "N.Burleson (9:09) N.Burleson left end to MIN 38 for 20 yards (B.Leber). Play was a reverse.\n",
      "N.Roosevelt (11:12) Reverse N.Roosevelt right end to BUF 28 for 3 yards (B.Pool).\n",
      "J.Cotchery (2:00) Reverse J.Cotchery left end to NYJ 40 for -1 yards (P.Posluszny).\n",
      "M.Cassel (2:58) M.Cassel scrambles right end to BAL 41 for 5 yards (T.Suggs). M.Cassel handed off to T.Jones who lateralled back to M.Cassel.\n",
      "G.Tate (11:40) G.Tate right end to CHI 49 for 13 yards (T.Jennings). #8 Hasselbeck threw a lateral to #81 Tate.\n",
      "B.Tate (11:33) B.Tate left end to NE 46 for 11 yards (B.Pool). reverse\n",
      "K.Ogletree (10:13) K.Ogletree left end to NYJ 49 for 7 yards (D.Revis). Reverse -- 28-Jones hands off to 85-Olgetree.\n",
      "D.Moore (11:11) D.Moore left end pushed ob at BUF 18 for 25 yards (J.Byrd). Reverse, handoff from D.Hagan after initial handoff from J.Campbell.\n",
      "T.Ginn (13:12) T.Ginn left end to SF 40 for 12 yards (L.Delmas). Play was a reverse.\n",
      "C.Newton (4:18) (Shotgun) C.Newton left end to WAS 17 for 2 yards. Lateral to D.Williams to WAS 12 for 5 yards (L.Landry).\n",
      "M.Tolbert (9:27) (Shotgun) P.Rivers to SD 39 for no gain (C.Woodson). FUMBLES (C.Woodson), and recovers at SD 39. P.Rivers to SD 39 for no gain. Lateral to M.Tolbert to SD 48 for 9 yards (C.Peprah).\n",
      "J.Horne (8:18) J.Horne left end to NE 43 for 5 yards (J.Edelman). reverse\n",
      "N.Burleson (13:39) N.Burleson left end to GB 48 for 11 yards (M.Burnett, D.Smith). Play was a reverse.\n",
      "T.Ginn (4:35) T.Ginn left end pushed ob at BAL 31 for 9 yards (B.Pollard). Ginn runs around left end on reverse.\n",
      "M.Wallace (14:21) M.Wallace left end to PIT 17 for -3 yards (A.Jones). Lateral.\n",
      "A.Armstrong (13:12) A.Armstrong left end pushed ob at NYG 37 for 14 yards (M.Boley). Reverse involving #29 - R.Helu\n",
      "S.Jackson (9:13) K.Clemens to STL 17 for -1 yards. FUMBLES, and recovers at STL 17. K.Clemens to STL 17 for no gain. Lateral to S.Jackson to STL 17 for no gain (W.Gay).\n",
      "P.Harvin (4:07) P.Harvin right end pushed ob at WAS 19 for 31 yards (D.Hall). Reverse from 32-Gerhart\n",
      "W.Welker (5:02) W.Welker right end to MIA 34 for 7 yards (S.Smith; Y.Bell). reverse\n",
      "A.Hernandez (14:55) A.Hernandez right end to NE 41 for 19 yards (J.Rogers). reverse\n",
      "T.Benjamin (13:10) T.Benjamin left end to PHI 13 for 35 yards (N.Asomugha). 16 Cribbs hands off to 80 Benjamin on reverse\n",
      "T.Smith (11:48) T.Smith left end pushed ob at CIN 50 for 13 yards (T.Mays). T. Smith runs a reverse after fake to Rice.\n",
      "D.Williams (10:17) (No Huddle, Shotgun) C.Newton left end to CAR 49 for no gain. Lateral to D.Williams to NYG 44 for 7 yards (C.Webster).\n",
      "J.Edelman (9:25) (No Huddle) J.Edelman left end to NE 32 for 8 yards (B.Pollard, E.Reed). Reverse\n",
      "J.Edelman (7:48) (Shotgun) J.Edelman left end to NE 38 for -13 yards (C.Upshaw). Direct snap to Woodhead who hands off to Edelman on reverse.\n",
      "T.Smith (7:35) T.Smith right end to BAL 24 for no gain. Reverse\n",
      "T.Benjamin (:56) T.Benjamin right end to BAL 43 for no gain (L.Webb). Benjamin reverse.\n",
      "R.Mendenhall (5:01) (Shotgun) R.Mendenhall right end for 13 yards, TOUCHDOWN. From lateral by #7 Roethlisberger.\n",
      "J.Norwood (11:54) J.Norwood left end to NYG 49 for 1 yard (A.Rolle, M.Kuhn). Double reverse involving #16 - J.Cribbs.\n",
      "C.Newton (3:14) (Shotgun) C.Newton right end to CAR 19 for 1 yard. Lateral to K.Pilares to CAR 31 for 12 yards (R.Sherman).\n",
      "J.Cribbs (3:35) J.Cribbs right end to CIN 29 for 8 yards (A.Jones). hand off from 20 Hardesty on reverse\n",
      "A.Green (3:37) (No Huddle, Shotgun) A.Green left end to STL 25 for 5 yards (J.Laurinaitis). Lateral backwards pass by A. Rogers.\n",
      "J.Kerley (11:07) J.Kerley left tackle to NE 17 for 2 yards (C.Jones). reverse\n",
      "A.Brown (9:34) A.Brown right end to PIT 24 for 4 yards (B.Pollard). PIT QB Charlie Batch lateraled to #84 Brown on a flanker screen\n",
      "R.Rice (5:00) R.Rice left end for 34 yards, TOUCHDOWN. Ray Rice reverses field and runs around left end for touchdown.\n",
      "T.Graham (6:56) (Shotgun) T.Graham left tackle to STL 49 for 5 yards (J.Jenkins). Reverse, handoff from C.Spiller.\n",
      "T.Benjamin (15:00) T.Benjamin left end to KC 45 for 15 yards (B.Flowers). Play was double reverse Weeden to Gordon to Benjamin left end\n",
      "C.Newton (5:23) (Shotgun) C.Newton left end to OAK 41 for 2 yards. Lateral to D.Williams pushed ob at OAK 27 for 14 yards (M.Giordano).\n",
      "T.Smith (10:33) T.Smith right end to CIN 34 for -4 yards (D.Peko). {Reverse from Rice}\n",
      "D.Avery (15:00) D.Avery right end to IND 35 for 15 yards (C.Graham). Reverse - end around\n",
      "A.Hernandez (7:24) (No Huddle) A.Hernandez left end to BAL 12 for 6 yards (C.Graham). reverse\n",
      "J.Edelman (3:33) J.Edelman left end ran ob at NE 31 for 4 yards. reverse\n",
      "T.Williams (7:39) (No Huddle, Shotgun) T.Williams to KC 12 for -3 yards (H.Abdullah; Q.Demps). T.Romo attempted pass was a backward lateral.\n",
      "P.Peterson (10:21) (Shotgun) P.Peterson left end pushed ob at 50 for 11 yards (C.Lofton). Reverse - Palmer pitched to #12 Roberts, who then lateralled to #21 Peterson.\n",
      "M.Jones (7:54) (Shotgun) M.Jones left end pushed ob at CIN 38 for 8 yards (Cha.Jones). {Reverse from Bernard to Jones}\n",
      "M.Jones (13:47) M.Jones left end to BUF 32 for 34 yards (J.Byrd, D.Searcy). Reverse, pitch from G.Bernard after inital handoff from A.Dalton.\n",
      "M.Jones (8:13) M.Jones right end to CIN 48 for 7 yards (C.Canty; L.Webb). Reverse play.\n",
      "T.Taylor (12:52) T.Taylor right end pushed ob at CIN 33 for 18 yards (T.Newman). Backup QB Travis Taylor (BAL) lines up at WR and carries ball on reverse.\n",
      "J.Gordon (5:07) (Shotgun) J.Gordon left end pushed ob at NE 33 for 34 yards (R.Ninkovich). reverse\n",
      "M.Jones (9:30) M.Jones right end to CIN 28 for 5 yards (L.Guion; C.Greenway). MIN-A.Cole was injured during the play.  {reverse from AJ Green}\n",
      "S.Bailey (12:13) S.Bailey left end for 27 yards, TOUCHDOWN. Double reverse.\n",
      "J.Ross (5:07) J.Ross right end pushed ob at NYG 49 for 16 yards (P.Amukamara). Play was a reverse.\n",
      "Al.Robinson (11:22) Al.Robinson right end to WAS 46 for -2 yards (J.Tuck, K.Rivers). Reverse involving #29 R. Helu.\n",
      "T.Benjamin (:04) T.Benjamin left end to CLE 23 for 10 yards (I.Taylor). Reverse play, #44 Tate took first handoff.\n",
      "A.Green (11:49) (No Huddle, Shotgun) A.Green left end to BAL 34 for 5 yards (D.Smith; M.Elam). reverse\n",
      "D.Jackson (4:09) D.Jackson right end to WAS 12 for -9 yards (J.Clowney). (Play was a reverse)\n",
      "G.Smith (9:48) (No Huddle, Shotgun) G.Smith left end to NYJ 27 for 2 yards. Lateral to J.Kerley pushed ob at GB 36 for 37 yards (D.House).\n",
      "T.Benjamin (5:03) T.Benjamin right end to BAL 47 for -2 yards (T.Suggs). reverse pitchout form #6 to # 28  Pitch out from #28 to # 11\n",
      "Wi.Johnson (15:00) Wi.Johnson right end to PIT 20 for no gain (D.Lansanah; D.Fletcher). Lateral pass from #7 Roethlisberger.\n",
      "C.Brown (4:25) (Shotgun) C.Newton left end to CAR 20 for no gain. Lateral to C.Brown to CAR 34 for 14 yards.\n",
      "B.Tate (8:30) (No Huddle, Shotgun) B.Tate left end pushed ob at NE 47 for no gain (A.Dennard). reverse\n",
      "B.Tate (13:42) B.Tate left end ran ob at CIN 46 for 9 yards (R.Harper). {Dalton lateral to Bernard, who lateraled to Tate}\n",
      "M.Sanu (13:44) (Shotgun) M.Sanu left end to BAL 25 for 26 yards (C.Mosley). {A.Dalton,to G.Bernard to M.Sanu on Reverse}\n",
      "M.Sanu (:59) (Shotgun) M.Sanu left end to CIN 36 for 1 yard (T.Suggs). {A.Dalton to G.Bernard to M.Sanu, reverse}\n",
      "D.Thomas (3:23) (Shotgun) D.Thomas right end to STL 49 for -3 yards (L.Joyner). A.Smith tossed wide right to D.Thomas, ruled as a lateral by officials.\n",
      "A.Green (5:54) (Shotgun) A.Green left end to JAC 7 for 2 yards (R.Davis). FUMBLES (R.Davis), recovered by CIN-M.Sanu at JAC 12. M.Sanu to JAC 12 for no gain (J.Evans). {backwards lateral}\n",
      "J.Hill (9:31) J.Hill right end pushed ob at CIN 21 for 11 yards (J.Cyprien). {play started right, reversed to the left}\n",
      "M.Sanu (7:10) M.Sanu left end to CIN 44 for 9 yards (J.Cyprien). {reverse, A.Dalton to J.Hill to M.Sanu}\n",
      "J.Landry (3:58) J.Landry left end to MIA 12 for -8 yards (E.Ansah). Play was a reverse.\n",
      "G.Tate (9:29) G.Tate left end to NE 46 for 13 yards (D.McCourty). reverse\n",
      "J.Ross (9:41) (Shotgun) J.Ross left end to DET 45 for 4 yards (D.Goldson). Play was a reverse.\n",
      "M.Lee (4:16) (No Huddle, Shotgun) M.Lee left end to JAC 19 for -2 yards. Lateral to M.Lee to JAC 25 for 6 yards (M.Mohamed).\n",
      "T.Ginn (10:24) T.Ginn right end ran ob at STL 33 for 3 yards (E.Gaines). Reverse\n",
      "S.Bailey (8:58) (Shotgun) S.Bailey left end to ARI 18 for 13 yards (A.Okafor, J.Powers). Reverse.\n",
      "J.Forsett (:25) J.Flacco to BAL 41 for -1 yards. FUMBLES, and recovers at BAL 41. J.Flacco to BAL 41 for no gain. Lateral to J.Forsett to BAL 38 for -3 yards (C.Robertson).\n",
      "S.Watkins (13:36) S.Watkins right end to NE 21 for 5 yards (M.Butler; R.Ninkovich). reverse\n",
      "B.LaFell (8:25) B.LaFell right end ran ob at BUF 35 for 9 yards. reverse\n",
      "B.LaFell (8:37) B.LaFell left end to BUF 26 for 4 yards (D.Searcy). reverse\n",
      "M.Campanaro (2:22) M.Campanaro right tackle to BAL 37 for no gain (R.Ninkovich; S.Siliga). reverse\n",
      "J.Edelman (4:50) J.Edelman right end to IND 47 for 12 yards (D.Butler). FUMBLES (D.Butler), ball out of bounds at IND 47. reverse\n",
      "J.Edelman (15:00) J.Edelman right end to NE 37 for 9 yards (S.Thomas; J.Harrison). reverse\n",
      "J.Maclin (7:15) (Shotgun) J.Maclin left end to DEN 17 for -3 yards (D.Bruton). A.Smith ran left, pitched to J.Maclin going right. Reversed field.\n",
      "M.Bryant (10:32) (Shotgun) M.Bryant left end ran ob at KC 49 for 13 yards. L.Jones handed off to L.Bell who was going right. L.Bell lateralled to M.Bryant going left.\n",
      "L.Whitehead (4:48) L.Whitehead left end to NYG 45 for 10 yards (K.Wynn). Reverse involving a hand off to #20 - D. McFadden.\n",
      "M.Sanu (13:35) (Shotgun) M.Sanu left end for 25 yards, TOUCHDOWN. Reverse from Dalton to Benard to Sanu\n",
      "D.Amendola (8:58) D.Amendola left end ran ob at WAS 47 for 8 yards. reverse\n",
      "L.Whitehead (13:49) L.Whitehead left end to NYJ 31 for 33 yards (L.Williams). Reverse on a pitch back.\n",
      "T.Austin (14:08) T.Austin left end pushed ob at STL 48 for 7 yards (D.Johnson). 11 T.Austin took lateral pass from 17 C.Keenum\n",
      "J.Edelman (10:09) (No Huddle) J.Edelman left end to KC 40 for 11 yards (R.Parker). reverse\n",
      "M.Bryant (2:37) M.Bryant left end to DEN 16 for 40 yards (M.Jackson). Reverse play.\n",
      "M.Bryant (3:46) (Shotgun) M.Bryant left end pushed ob at PIT 45 for no gain (T.Ward). Reverse Play.\n",
      "P.Dorsett (4:14) (Shotgun) P.Dorsett left end to JAX 29 for 3 yards (J.Ramsey). #34 Josh Ferguson took the handoff and gave to #15 Phillip Dorsett on the reverse.\n",
      "C.Beasley (10:38) C.Beasley right end pushed ob at DAL 41 for 7 yards (A.Bethea). Lateral pass from Z.Prescott to C.Beasley\n",
      "S.Coates (8:13) (Shotgun) S.Coates left end to KC 31 for -1 yards (F.Zombo). Reverse. First handoff to 26-Bell.\n",
      "B.Cooks (13:22) B.Cooks right end to NO 14 for 2 yards (Z.Sanchez). Brees' pass went backwards (lateral) and Cooks rushed for 2 yards.\n",
      "R.Fitzpatrick (12:37) (Shotgun) R.Fitzpatrick scrambles up the middle to MIA 33 for 14 yards. Lateral to B.Powell to MIA 25 for 8 yards (K.Alonso).\n",
      "C.Patterson (1:13) C.Patterson left end to DET 25 for 22 yards (G.Quin, R.Bush). Double reverse.\n",
      "R.Jennings (:48) (Shotgun) R.Jennings right end to NYG 36 for 6 yards (X.Cooper). 10 E Manning lateral pass to 23 R Jennings to the right\n",
      "T.Ginn (14:12) (Shotgun) T.Ginn left end pushed ob at OAK 17 for 13 yards (R.Nelson). Rush by C.Newton and lateraled to #19 T.Ginn.\n",
      "S.Wynn (3:38) (Shotgun) S.Wynn right end to 50 for 7 yards (V.Miller). Backwards Lateral\n",
      "T.Boyd (13:33) (Shotgun) T.Boyd left end to CLE 20 for 39 yards (B.Boddy-Calhoun). Hardoff to 32 J. Hill pitched to 83 T Boyd on reverse\n",
      "C.Hogan (9:27) (No Huddle) C.Hogan right end to NE 46 for 1 yard (Z.Orr). reverse\n",
      "N.Agholor (9:30) N.Agholor left end ran ob at NYG 30 for 5 yards. 11-C.Wentz toss to 81-J.Matthews.  Reverse to 17-N.Agholor.\n",
      "T.Boyd (2:33) (Shotgun) T.Boyd right end to BAL 43 for 15 yards (L.Webb). {Reverse, Dalton to Burkhead to Boyd}\n",
      "C.Hogan (1:36) C.Hogan left end to KC 17 for 13 yards (P.Gaines). reverse\n",
      "R.Higgins (12:09) (Shotgun) R.Higgins right end pushed ob at CLE 22 for 4 yards (C.Mosley). Lateral\n",
      "M.Bryant (6:07) Reverse. First handoff went to 26-Bell. (Shotgun) M.Bryant left end to MIN 31 for 7 yards (A.Sendejo).\n",
      "B.Ellington (9:16) (No Huddle, Shotgun) B.Ellington left end pushed ob at NE 30 for -1 yards (S.Gilmore). reverse\n",
      "D.Byrd (10:33) (Shotgun) D.Byrd left end to NE 28 for 12 yards (S.Gilmore). CAR-D.Byrd was injured during the play. He is Out.  reverse\n",
      "A.Erickson (13:26) A.Erickson left end to CIN 35 for -6 yards (J.Hughes; M.Hyde). {reverse Dalton to Green to Erickson}\n",
      "A.Kamara (3:33) A.Kamara right end to DET 35 for 6 yards (T.Whitehead). Brees handed off to #42 Z.Line, who then lateralled to #41 A.Kamara.\n",
      "T.Lockett (4:18) T.Lockett left end to NYG 5 for 6 yards (D.Thompson). R.Wilson lateral to #16 T.Lockett.\n",
      "R.Shepard (11:32) (Shotgun) R.Shepard left end to ATL 17 for 11 yards (D.Campbell). Play was a reverse by Shepard\n",
      "T.Ginn (9:48) T.Ginn right end to NO 33 for -12 yards (P.Smith). Attempted reverse.\n",
      "J.Hill (:28) J.Hill up the middle to NO 28 for -8 yards (M.Spaight). Brees threw a backwards pass / lateral to Hill, who was tackled behind the line of scrimmage.\n",
      "R.Wilson (10:06) (Shotgun) R.Wilson right guard to SEA 48 for 6 yards. Lateral to M.Davis to PHI 35 for 17 yards (J.Mills).\n",
      "J.Grant (14:14) (Shotgun) J.Grant right end to BUF 44 for 7 yards (P.Brown). Lateral.\n",
      "C.Patterson (10:14) Reverse from #24 Lynch to #84 Patterson. (Shotgun) C.Patterson left end to OAK 35 for -4 yards (K.Frazier).\n",
      "B.Cooks (:33) (Shotgun) B.Cooks left end to NYJ 5 for 12 yards (Ja.Adams). reverse\n",
      "D.Heyward-Bey (10:52) (Shotgun) D.Heyward-Bey right end for 29 yards, TOUCHDOWN. Reverse. 33-Toussaint received the first hand-off.\n",
      "A.Collins (6:28) A.Collins left tackle for 17 yards, TOUCHDOWN. Collins runs left and then reverses field to score touchdown.\n",
      "R.Burkhead (13:10) R.Burkhead left end to JAX 33 for 5 yards (M.Jack). reverse\n",
      "C.Grant (13:38) (Shotgun) C.Grant right end to NYG 47 for 3 yards (R.Armstrong, B.Webb). Lateral from B.Bortles to C.Grant.\n",
      "J.Mixon (5:59) J.Mixon right tackle to BAL 16 for 21 yards (E.Weddle). {reversed run to left end}\n",
      "M.Breida (7:31) M.Breida right end pushed ob at KC 4 for 13 yards (R.Parker). J.Garoppolo handed off to K.Juszczyk who lateraled to M.Breida\n",
      "A.Ekeler (15:00) A.Ekeler left end pushed ob at TEN 18 for 9 yards (K.Lewis). Play was a reverse, #13 Keenan Allen went right and pitched back to #30 Austin Ekeler who came back around the left end.\n",
      "J.Edelman (8:07) (Shotgun) J.Edelman right end to BUF 29 for 6 yards (T.White; P.Gaines). Reverse, handoff from J.White.\n",
      "C.Samuel (11:36) C.Samuel left end for 33 yards, TOUCHDOWN. Play was a double reverse\n",
      "J.Edelman (8:30) J.Edelman left end pushed ob at NE 45 for 17 yards (T.Williams). reverse\n",
      "L.Jackson (1:44) (Shotgun) L.Jackson right end to CIN 16 for 2 yards. Lateral to T.Montgomery pushed ob at CIN 11 for 5 yards (J.Bates; S.Williams).\n",
      "O.Beckham (1:53) O.Beckham left end ran ob at TB 42 for 11 yards (I.Johnson). Reverse involving #26-S. Barkley.\n",
      "M.Ingram (1:17) D.Brees to NO 40 for no gain. FUMBLES, and recovers at NO 37. D.Brees to NO 33 for -4 yards. Lateral to M.Ingram pushed ob at ATL 48 for 19 yards (D.Kazee).\n",
      "R.Wilson (:14) (Shotgun) G.Fant reported in as eligible.  R.Wilson left end to SF 8 for 2 yards. Lateral to T.Lockett to SF 1 for 7 yards (T.Moore).\n"
     ]
    }
   ],
   "source": [
    "for index, row in new_runs.iterrows():\n",
    "    print(row['rusher_player_name'], row['desc'])"
   ]
  },
  {
   "cell_type": "code",
   "execution_count": 195,
   "metadata": {},
   "outputs": [
    {
     "name": "stdout",
     "output_type": "stream",
     "text": [
      "180\n",
      "1.222616195386599\n"
     ]
    }
   ],
   "source": [
    "print(new_runs.epa.count())\n",
    "print(new_runs.epa.std())"
   ]
  },
  {
   "cell_type": "code",
   "execution_count": 190,
   "metadata": {},
   "outputs": [
    {
     "name": "stdout",
     "output_type": "stream",
     "text": [
      "0.5337730791878021\n",
      "0.9961841535127494\n"
     ]
    }
   ],
   "source": [
    "print(runs.epa.mean())\n",
    "print(runs.epa.std())"
   ]
  },
  {
   "cell_type": "code",
   "execution_count": null,
   "metadata": {},
   "outputs": [],
   "source": []
  }
 ],
 "metadata": {
  "kernelspec": {
   "display_name": "Python 3",
   "language": "python",
   "name": "python3"
  },
  "language_info": {
   "codemirror_mode": {
    "name": "ipython",
    "version": 3
   },
   "file_extension": ".py",
   "mimetype": "text/x-python",
   "name": "python",
   "nbconvert_exporter": "python",
   "pygments_lexer": "ipython3",
   "version": "3.7.3"
  }
 },
 "nbformat": 4,
 "nbformat_minor": 2
}
