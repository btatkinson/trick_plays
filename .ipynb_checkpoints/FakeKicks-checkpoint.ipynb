{
 "cells": [
  {
   "cell_type": "code",
   "execution_count": 3,
   "metadata": {},
   "outputs": [],
   "source": [
    "import pandas as pd\n",
    "import numpy as np"
   ]
  },
  {
   "cell_type": "code",
   "execution_count": 2,
   "metadata": {},
   "outputs": [
    {
     "name": "stdout",
     "output_type": "stream",
     "text": [
      "[2009, 2010, 2011, 2012, 2013, 2014, 2015, 2016, 2017, 2018]\n"
     ]
    }
   ],
   "source": [
    "seasons = list(range(2009,2019)) # creates list of years through 2018"
   ]
  },
  {
   "cell_type": "code",
   "execution_count": 42,
   "metadata": {},
   "outputs": [
    {
     "name": "stdout",
     "output_type": "stream",
     "text": [
      "(44596, 255)\n",
      "(89347, 255)\n",
      "(134417, 255)\n",
      "(179659, 255)\n"
     ]
    },
    {
     "name": "stderr",
     "output_type": "stream",
     "text": [
      "/usr/local/lib/python3.7/site-packages/IPython/core/interactiveshell.py:3049: DtypeWarning: Columns (166,167,168,169,178,179,182,183,188,189,190,191,194,195,198,199,203,204,205,226,227,231,232,233,238,240,241) have mixed types. Specify dtype option on import or set low_memory=False.\n",
      "  interactivity=interactivity, compiler=compiler, result=result)\n"
     ]
    },
    {
     "name": "stdout",
     "output_type": "stream",
     "text": [
      "(224907, 255)\n"
     ]
    },
    {
     "name": "stderr",
     "output_type": "stream",
     "text": [
      "/usr/local/lib/python3.7/site-packages/IPython/core/interactiveshell.py:3049: DtypeWarning: Columns (42,166,167,168,169,174,175,178,179,182,183,188,189,190,191,203,204,205,231,232,233,238,240,241) have mixed types. Specify dtype option on import or set low_memory=False.\n",
      "  interactivity=interactivity, compiler=compiler, result=result)\n"
     ]
    },
    {
     "name": "stdout",
     "output_type": "stream",
     "text": [
      "(270409, 255)\n"
     ]
    },
    {
     "name": "stderr",
     "output_type": "stream",
     "text": [
      "/usr/local/lib/python3.7/site-packages/IPython/core/interactiveshell.py:3049: DtypeWarning: Columns (42,166,167,174,175,178,179,182,183,188,189,203,204,205,231,232,233,238,240,241) have mixed types. Specify dtype option on import or set low_memory=False.\n",
      "  interactivity=interactivity, compiler=compiler, result=result)\n"
     ]
    },
    {
     "name": "stdout",
     "output_type": "stream",
     "text": [
      "(316538, 255)\n"
     ]
    },
    {
     "name": "stderr",
     "output_type": "stream",
     "text": [
      "/usr/local/lib/python3.7/site-packages/IPython/core/interactiveshell.py:3049: DtypeWarning: Columns (167,168,169,170,175,176,179,180,183,184,189,190,191,192,195,196,199,200,204,205,206,227,228,232,233,234,239,241,242) have mixed types. Specify dtype option on import or set low_memory=False.\n",
      "  interactivity=interactivity, compiler=compiler, result=result)\n",
      "/usr/local/lib/python3.7/site-packages/ipykernel_launcher.py:6: FutureWarning: Sorting because non-concatenation axis is not aligned. A future version\n",
      "of pandas will change to not sort by default.\n",
      "\n",
      "To accept the future behavior, pass 'sort=False'.\n",
      "\n",
      "To retain the current behavior and silence the warning, pass 'sort=True'.\n",
      "\n",
      "  \n"
     ]
    },
    {
     "name": "stdout",
     "output_type": "stream",
     "text": [
      "(362274, 256)\n"
     ]
    },
    {
     "name": "stderr",
     "output_type": "stream",
     "text": [
      "/usr/local/lib/python3.7/site-packages/IPython/core/interactiveshell.py:3049: DtypeWarning: Columns (42,167,168,169,170,175,176,179,180,183,184,189,190,191,192,199,200,204,205,206,227,228,232,233,234,239,241,242,250) have mixed types. Specify dtype option on import or set low_memory=False.\n",
      "  interactivity=interactivity, compiler=compiler, result=result)\n"
     ]
    },
    {
     "name": "stdout",
     "output_type": "stream",
     "text": [
      "(407518, 256)\n",
      "(452661, 256)\n"
     ]
    }
   ],
   "source": [
    "pd.options.mode.chained_assignment = None # turn off pandas warnings\n",
    "# merge seasons into one complete df\n",
    "df = pd.DataFrame()\n",
    "for season in seasons:\n",
    "    path = './data/nflscrapR-data/play_by_play_data/regular_season/reg_pbp_'+str(season)+'.csv'\n",
    "    season_df = pd.read_csv(path)\n",
    "    df = pd.concat([df, season_df], axis=0)\n",
    "print(df.shape)\n"
   ]
  },
  {
   "cell_type": "code",
   "execution_count": 45,
   "metadata": {},
   "outputs": [
    {
     "name": "stdout",
     "output_type": "stream",
     "text": [
      "['kickoff' 'pass' 'run' 'punt' 'field_goal' 'no_play' nan 'extra_point'\n",
      " 'qb_kneel' 'qb_spike']\n"
     ]
    }
   ],
   "source": [
    "print(df['play_type'].unique())\n",
    "\n",
    "df.desc = df.desc.fillna(\"\") # fill nans so can index"
   ]
  },
  {
   "cell_type": "code",
   "execution_count": 47,
   "metadata": {},
   "outputs": [],
   "source": [
    "punts = df.loc[df.desc.str.contains('punt|Punt')]"
   ]
  },
  {
   "cell_type": "code",
   "execution_count": 60,
   "metadata": {},
   "outputs": [],
   "source": [
    "fake_punts = punts.loc[punts['play_type']!='punt']\n",
    "fake_punts = fake_punts.loc[fake_punts.penalty!=1] # enforced penalties\n",
    "fake_punts = fake_punts.loc[~fake_punts.desc.str.contains('Penalty')] # non enforced penalties\n",
    "fake_punts = fake_punts.loc[~fake_punts.desc.str.contains('Aborted|Shotgun')] # punter mishandles snap\n",
    "fake_punts = fake_punts.loc[~fake_punts.desc.str.contains('SAFETY')] # punter intentionally runs out of end zone\n",
    "fake_punts.dropna(subset=['desc'], inplace=True) # drop plays without description"
   ]
  },
  {
   "cell_type": "code",
   "execution_count": 61,
   "metadata": {},
   "outputs": [
    {
     "name": "stdout",
     "output_type": "stream",
     "text": [
      "25417\n",
      "167\n",
      "(13:34) M.Schaub pass incomplete short left to A.Davis. (The punt hangtime was 3.4 seconds)\n",
      "(12:43) (Punt formation) G.Wolfe up the middle to CHI 30 for 4 yards (B.Swain, D.Bishop). Chicago challenged the too many players on field ruling, and the play was Upheld. (Timeout #2 at 12:39.)\n",
      "(6:43) Direct snap to #47 J. McGraw (Punt formation) J.McGraw left end to KC 44 for 4 yards (E.Buckley).\n",
      "(1:32) (Punt formation) C.Crocker left end to PIT 41 for 21 yards (L.Sweed, J.Burnett).\n",
      "(5:40) (Punt formation) S.Weatherford right end ran ob at MIA 40 for 26 yards.\n",
      "(4:58) (Punt formation) B.Smith right end to MIA 28 for 12 yards (Y.Bell).\n",
      "(6:23) (Punt formation) J.Ryan pass deep middle to J.Carlson to ARI 20 for 42 yards (M.Adams).\n",
      "(:34) (Punt formation) S.Weatherford up the middle to NYJ 39 for 16 yards (I.Ekejiuba).\n",
      "(12:27) (Punt formation) J.Jenkins left tackle to BUF 37 for -3 yards (J.Casey). End-around, handoff from B.Moorman.\n",
      "(14:08) (Punt formation) B.Croyle pass incomplete short left to T.Gafford.\n",
      "(9:22) (Punt formation) B.Smith pass short right to E.Smith to TB 34 for 27 yards (E.Mack). Fake Punt\n",
      "(:03) (Punt formation) K.Darby up the middle to TEN 13 for 51 yards (D.Nickey, M.Griffin). STL #34 K. Darby ran it on a fake punt.\n",
      "(13:08) Direct snap to DET #24-K. Pearson. (Punt formation) K.Pearson left end to DET 39 for 1 yard (G.Adams). FUMBLES (G.Adams), recovered by DET-D.Levy at DET 39. D.Levy to DET 39 for no gain (T.Shaw).\n",
      "(:03) (Punt formation) M.Turk left end to HOU 9 for -27 yards (C.Horton).\n",
      "(10:14) (Punt formation) B.Moorman right end to BUF 43 for 1 yard (M.Owens).\n",
      "(4:30) (Punt formation) R.Hodges up the middle to NO 9 for 68 yards (M.Jenkins). Hodges faked the punt and run up the middle for 68 yards.\n",
      "(6:36) (Punt formation) S.Weatherford right end to NYJ 38 for 18 yards (A.Smith). Green Bay challenged the first down ruling, and the play was REVERSED. (Punt formation) S.Weatherford right end to NYJ 37 for 17 yards (A.Smith).\n",
      "(2:46) (Punt formation) S.Koch pass short left to C.Williams to MIA 26 for 13 yards (D.Bess).\n",
      "(7:14) (Punt formation) J.Senn to CAR 45 for 5 yards (M.Giordano).\n",
      "(2:43) (Punt formation) J.Arenas left tackle to OAK 41 for 5 yards (R.Cartwright).\n",
      "(1:23) (Punt formation) Direct snap to R.Cartwright.  R.Cartwright right end to OAK 48 for 2 yards (J.Battle; T.Copper).\n",
      "(7:08) (Punt formation) P.Cobbs right guard to MIA 28 for 1 yard (J.Cook).\n",
      "(6:04) (Punt formation) M.Scifres pass deep middle to M.Tolbert to DEN 31 for 28 yards (E.Royal).\n",
      "(13:31) (Punt formation) M.Sanchez pass incomplete short right to B.Smith (R.Davis).\n",
      "(12:40) (Punt formation) D.Sepulveda pass short right to R.Mundy to TEN 17 for 33 yards (G.McRath).\n",
      "(9:28) (Punt formation) C.Henry pass incomplete short left to C.Anderson.\n",
      "(8:01) (Punt formation) S.Lechler pass incomplete deep right to J.Ford (Q.Jammer).\n",
      "(10:04) (Punt formation) T.Masthay right end to GB 12 for -9 yards. FUMBLES, and recovers at GB 18. T.Masthay to GB 27 for 9 yards. FUMBLES, ball out of bounds at GB 27.\n",
      "(1:59) (Punt formation) A.Podlesh pass incomplete to C.Steltz.\n",
      "(3:24) (Punt formation) Direct snap to J.Arenas.  J.Arenas right end to KC 34 for 5 yards (W.Saunders).\n",
      "(8:33) (Punt formation) E.Weddle left end ran ob at SD 40 for 10 yards (D.Searcy).\n",
      "(13:30) (Punt formation) D.Jones scrambles right end to PIT 35 for 9 yards (A.Brown).\n",
      "(12:18) (Punt formation) Direct snap to G.Wilson.  G.Wilson up the middle to BUF 49 for 6 yards (N.Koutouvides; L.Polite).\n",
      "(12:42) (Punt formation) S.Considine up the middle to BAL 46 for 3 yards (S.Havili).\n",
      "(7:18) (Punt formation) T.Tebow left guard to NYJ 30 for 5 yards (O.Vernon).\n",
      "(8:36) (Punt formation) Direct snap to C.Peerman.  C.Peerman right end to JAC 18 for 48 yards (M.Owens).\n",
      "(9:27) (Punt formation) J.Kuhn left guard to GB 22 for 5 yards (I.Abdul-Quddus).\n",
      "(15:00) (Punt formation) T.Tebow left tackle to NYJ 27 for 3 yards (T.Dobbins).\n",
      "(2:19) (Punt formation) T.Tebow pass short right to N.Bellore to IND 17 for 23 yards (T.Hilton).\n",
      "(4:15) (Punt formation) C.Clemons up the middle to MIA 43 for 3 yards (T.Johnson).\n",
      "(1:40) (Punt formation) Direct snap to R.Johnson.  R.Johnson right end pushed ob at BUF 43 for 24 yards (A.Williams).\n",
      "(8:06) (Punt formation) S.Lechler pass short right to T.Jones to TB 44 for 6 yards (A.Black). FUMBLES (A.Black), and recovers at TB 46. T.Jones to TB 46 for no gain (E.Wright).\n",
      "(:49) (Punt formation) J.Hekker pass short right to R.McLeod to STL 31 for 21 yards (P.Cox). Caught at STL 20.  11-yds YAC\n",
      "(5:23) (Punt formation) J.Hekker pass short left to L.Kendricks to SF 48 for 19 yards (P.Cox). Caught at STL 42.  10-yds YAC\n",
      "(12:36) (Punt formation) H.Nakamura left end to CAR 37 for -4 yards (A.Benn).\n",
      "(6:54) (Punt formation) T.Tebow pass short right to L.Hilliard to STL 46 for -1 yards (J.Laurinaitis).\n",
      "(6:51) (Punt formation) C.Peerman left end to KC 39 for 32 yards (A.Elam).\n",
      "(1:11) (Punt formation) R.Johnson right end to NYJ 35 for 40 yards (K.Wilson).\n",
      "(1:14) (Punt formation) Direct snap to E.Weddle.  E.Weddle left end to SD 32 for 4 yards (R.Golden).\n",
      "(13:59) (Punt formation) K.Tandy right guard to TB 47 for 18 yards (W.Herring). Fake punt - Tandy took a direct snap in the up position and rushed right.\n",
      "(12:49) (Punt formation) M.Robinson left guard to BUF 14 for 29 yards (R.Brooks). Snap to C.Maragos, inside handoff to M.Robinson.\n",
      "(4:43) (Punt formation) D.Goldson left end to NE 28 for 31 yards (W.Welker).\n",
      "(4:37) (Punt formation) S.Koch left end ran ob at BAL 42 for 10 yards (B.Leonard).\n",
      "(12:43) (Punt formation) Direct snap to R.Ventrone.  R.Ventrone up the middle to PIT 40 for 35 yards (A.Brown).\n",
      "(10:34) (Punt formation) Direct snap to E.Weddle.  E.Weddle up the middle to SD 34 for 6 yards (K.Burnett, D.Ausberry).\n",
      "(12:07) (Punt formation) S.Keo up the middle to HOU 44 for 8 yards (J.Addae).\n",
      "(12:05) (Punt formation) J.Hekker pass incomplete deep middle to S.Bailey. Pass incomplete off fake punt; post pattern.\n",
      "(8:05) (Punt formation) J.Aubrey up the middle to MIN 28 for 34 yards (M.Sherels).\n",
      "(9:22) (Punt formation) D.Goldson left end to TB 47 for 22 yards (T.Jefferson).\n",
      "(9:10) (Punt formation) Direct snap to T.Jones.  T.Jones left end to OAK 47 for 19 yards (N.Paul).\n",
      "(14:17) (Punt formation) W.Ta'ufo'ou up the middle to JAC 27 for 1 yard (M.Unrein).\n",
      "(:50) (Punt formation) D.Bruton left end to JAC 17 for 35 yards (D.Robinson).\n",
      "(13:31) (Punt formation) E.Weddle up the middle to SD 31 for 2 yards (D.Bruton, J.Tamme).\n",
      "(13:18) (Punt formation) Direct snap to J.Rodgers.  J.Rodgers right end to TB 42 for 14 yards (J.Casillas).\n",
      "(6:45) (Punt formation) M.Jennings right end to NYG 37 for 6 yards (S.Paysinger).\n",
      "(10:02) B.Tate left tackle to HOU 43 for 3 yards (P.Posluszny). (The Punt Hang Time Was 4.5 seconds.)\n",
      "(14:42) (Punt formation) Direct snap to M.Giordano.  M.Giordano to STL 17 for -5 yards (A.Dixon).\n",
      "(15:00) (Punt formation) C.Lynch left end to IND 49 for 3 yards (B.Harris).\n",
      "(7:34) (Punt formation) Direct snap to M.Reece.  M.Reece pass short left to C.Chekwa to KC 33 for 22 yards (C.Gray).\n",
      "(12:03) (Punt formation) J.Bush pass incomplete short left to I.Trufant.\n",
      "(12:58) (Punt formation) E.Weddle right guard to SD 30 for 2 yards (N.Johnson).\n",
      "(9:28) (Punt formation) R.Golden pass deep left to A.Blake to PIT 45 for 25 yards (J.Gilbert).\n",
      "(1:33) (Punt formation) Direct snap to C.Gray.  C.Gray up the middle to KC 44 for 4 yards (D.Stafford).\n",
      "(10:10) (Punt formation) S.Lechler pass short right to A.Blue pushed ob at HOU 49 for 10 yards (N.Berhe).\n",
      "(9:37) C.Spiller left end to BUF 34 for -3 yards (D.Morris). (The Punt Hang Time Was 3.63 secs.)\n",
      "(2:07) A.Blue right end to HOU 40 for 2 yards (D.Williams). (The Punt Hang Time Was 4.13 secs.)\n",
      "(7:45) (Punt formation) T.Morstead sacked at NO 39 for -2 yards (J.Crawford). Morstead lined up to punt; it was a fake; tackled for a 2 yard loss.\n",
      "(13:41) (Punt formation) C.Dahl up the middle to SF 32 for 3 yards (J.Franklin).\n",
      "(8:40) (Punt formation) E.Weddle pass incomplete deep right to S.Ajirotutu.\n",
      "(2:55) (Punt formation) J.Hekker pass short left to B.Cunningham to STL 36 for 18 yards (D.Shead).\n",
      "(7:13) (Punt formation) A.Blue up the middle to HOU 44 for 7 yards (A.Moats; D.Heyward-Bey).\n",
      "(10:26) (Punt formation) S.Martin pass short middle to J.Collins to MIA 31 for 24 yards (J.Landry).\n",
      "(9:50) (Punt formation) S.Martin pass short right to I.Abdul-Quddus to MIA 38 for 3 yards (W.Aikens).\n",
      "(11:54) (Punt formation) P.O'Donnell to CHI 8 for -12 yards (J.Boykin). FUMBLES (J.Boykin), and recovers at CHI 8. P.O'Donnell to CHI 8 for no gain (J.Boykin).\n",
      "(4:09) (Punt formation) A.Sendejo left end pushed ob at CHI 7 for 48 yards (C.Jones).\n",
      "(7:20) (Punt formation) J.Hekker pass short left to S.Bailey to STL 45 for 19 yards (C.Davis).\n",
      "(13:32) (Punt formation) Direct snap to D.Bruton.  D.Bruton left end to DEN 49 for 13 yards (C.Owens).\n",
      "(9:38) (Punt formation) C.Peerman up the middle to PIT 40 for no gain (D.Heyward-Bey). FUMBLES (D.Heyward-Bey), recovered by CIN-N.Johnson at PIT 40, 4th down fumble rule invoked.\n",
      "(6:15) (Punt formation) T.Way right tackle to WAS 35 for 2 yards (D.Bates).\n",
      "(1:02) (Punt formation) Direct snap to A.Blue.  A.Blue up the middle to IND 42 for -2 yards (A.Jackson).\n",
      "(7:21) (Punt formation) B.Anger pass short middle to W.Ta'ufo'ou to JAC 46 for 19 yards (Z.Orr; R.Melvin). Jaguars successful on fake punt.\n",
      "(4:36) (Punt formation) P.McAfee pass incomplete deep right to D.McDonald. Pass thrown off fake punt incomplete at the Colts 35 on a go route.\n",
      "(4:19) (Punt formation) R.Quigley pass short middle to Z.Sudfeld to MIA 23 for 38 yards (J.Landry).\n",
      "(5:50) (Punt formation) B.Wing pass short middle intended for W.Allen INTERCEPTED by D.Sanzenbacher [N.Johnson] at CIN 35. D.Sanzenbacher to CIN 41 for 6 yards (T.Garvin).\n",
      "(8:32) (Punt formation) P.McAfee right end pushed ob at IND 38 for 18 yards (C.Sensabaugh).\n",
      "(11:09) (Punt formation) A.Levine right end to BAL 29 for 2 yards (C.Peerman). FUMBLES (C.Peerman), and recovers at BAL 30. A.Levine to BAL 30 for no gain (C.Peerman). fake punt rushed by #41 Levine\n",
      "(2:01) (Punt formation) C.Grant right end to JAC 24 for 2 yards (M.Slater).\n",
      "(8:20) (Punt formation) J.Hekker pass incomplete short left to S.Bailey.\n",
      "(6:33) (Punt formation) J.Hekker pass deep middle to C.Davis to GB 37 for 20 yards (C.Banjo).\n",
      "(5:18) (Punt formation) Direct snap to I.Abdul-Quddus.  I.Abdul-Quddus left end to CHI 32 for 30 yards (M.Mariani).\n",
      "(10:21) (Punt formation) J.Hekker pass incomplete short left to C.Davis.\n",
      "(1:24) (Punt formation) S.Koch up the middle to BAL 24 for 7 yards (D.Sorensen). Koch tries a fake punt.\n",
      "(2:02) (Punt formation) Direct snap to I.Abdul-Quddus.  I.Abdul-Quddus up the middle to DET 39 for 4 yards (N.Bellore).\n",
      "(4:49) (Punt formation) T.Masthay left end to ARI 48 for 7 yards (K.Martin).\n",
      "(6:20) (Punt formation) J.Heath up the middle to DAL 44 for 2 yards (H.Bates). Rush off fake punt. Direct snap to  Heath.\n",
      "T.Way kicks 70 yards from WAS 20 to DAL 10. L.Whitehead to DAL 33 for 23 yards (W.Blackmon; P.Smith). Washington chose to punt the ball following the safety.\n",
      "(11:19) (Punt formation) J.Hekker pass incomplete deep middle to B.Marquez (B.Ellington).\n",
      "(3:17) (Punt formation) T.Way pass deep left to Q.Dunbar to NYG 21 for 31 yards (D.Harris).\n",
      "(3:47) (Punt formation) B.Marquez right end to LA 25 for 2 yards (R.Darby).\n",
      "(12:41) (Punt formation) C.Schmidt to BUF 10 for -10 yards. FUMBLES, and recovers at BUF 11. C.Schmidt pushed ob at BUF 36 for 25 yards (B.King).\n",
      "(4:55) (Punt formation) C.Jones left end to PHI 43 for 30 yards (D.Sproles). Fake punt run around left end.\n",
      "(10:42) The punt went to the 10 yard line, and was the 11 on the change-of-possession. T.Siemian pass incomplete short left to V.Green.\n",
      "(12:00) (Punt formation) Direct snap to K.Byard.  A.Blake up the middle to TEN 41 for -2 yards (C.Geathers; H.Ridgeway).\n",
      "(14:55) (Punt formation) P.McAfee pass deep right to E.Swoope to PIT 8 for 35 yards (J.Gilbert).\n",
      "(13:02) (Punt formation) A.Wilson right guard for 55 yards, TOUCHDOWN.\n",
      "(4:35) (Punt formation) R.Dixon pass short left to C.Latimer pushed ob at TEN 49 for 16 yards (A.Blake).\n",
      "(6:02) (Punt formation) C.Grant right end to JAX 43 for 9 yards (Z.Line). Fake Punt\n",
      "(10:52) (Punt formation) J.Hekker pass incomplete short left to M.Thomas.\n",
      "(5:22) (Punt formation) J.Ryan up the middle to LA 47 for 26 yards. FUMBLES, recovered by SEA-N.Thorpe at LA 40. SEA-J.Ryan was injured during the play.  Los Angeles challenged the loose ball recovery ruling, and the play was Upheld. The ruling on the field stands. (Timeout #2.)\n",
      "(11:47) (Punt formation) Direct snap to C.Prosinski.  C.Prosinski right guard to 50 for 2 yards (L.Trail).\n",
      "(6:01) (Punt formation) J.Hekker pass short left to C.Reynolds to LA 32 for 4 yards (C.Bryant).\n",
      "(3:57) (Punt formation) J.Thompson up the middle to OAK 34 for 2 yards (J.Cowser).\n",
      "(14:30) (Punt formation) R.Quigley pass incomplete short right to B.Bell (T.Matakevich). Pressure by 31-Hilton.\n",
      "(10:05) (Punt formation) J.Hekker pass short left to J.Reynolds to WAS 17 for 28 yards (J.Crowder).\n",
      "(8:37) (Punt formation) M.Haack pass deep right intended for L.Carroo INTERCEPTED by T.Brooks at MIA 49. T.Brooks ran ob at MIA 49 for no gain.\n",
      "(:33) (Punt formation) D.Henderson right guard to DEN 32 for 1 yard (D.Lacey). Direct snap to D.Henderson.\n",
      "(15:00) (Punt formation) A.Wilson right end to KC 35 for -4 yards (C.McCain).\n",
      "(:22) (Punt formation) L.Edwards pass short right to M.Williams ran ob at JAX 22 for 31 yards.\n",
      "(5:33) (Punt formation) P.O'Donnell pass short middle to B.Cunningham for 38 yards, TOUCHDOWN.\n",
      "(6:53) (Punt formation) R.Golden pass deep right to D.Heyward-Bey pushed ob at CIN 16 for 44 yards (A.Erickson).\n",
      "(:34) (Punt formation) Direct snap to C.Grant.  C.Grant up the middle for 56 yards, TOUCHDOWN. Fake Punt\n",
      "(3:39) (Punt formation) J.Hekker pass short right to P.Cooper to LA 38 for 6 yards (K.Drummond).\n",
      "(7:59) (Punt formation) N.Berhe up the middle to NYG 43 for 2 yards (K.Pierre-Louis). Direct snap to N.Berhe.\n",
      "(5:40) (Punt formation) N.Paul up the middle to WAS 20 for 5 yards (M.Mauti).\n",
      "(14:12) (Punt formation) N.Ebner right end to NE 41 for 14 yards (A.Verner). FUMBLES (A.Verner), ball out of bounds at NE 41. NE-N.Ebner was injured during the play. He is Out.\n",
      "(12:26) (Punt formation) S.Koch pass deep left to C.Moore to HOU 19 for 22 yards (M.Williams). Ravens pull off fake punt.\n",
      "(9:05) (Punt formation) B.Nortman pass short middle to J.O'Shaughnessy to IND 22 for 29 yards (C.Milton). Fake Punt\n",
      "(:49) (Punt formation) M.King up the middle to OAK 9 for -11 yards (S.Smith).\n",
      "(12:14) (Punt formation) J.Whitehead left end to CLE 47 for 7 yards (J.Taylor). Rush out of Punt Formation\n",
      "(7:35) (Punt formation) Direct snap to E.Weems.  E.Weems up the middle to TEN 36 for 1 yard (J.Bynes, E.Penny). Arizona challenged the first down ruling, and the play was REVERSED. (Punt formation) Direct snap to E.Weems.  E.Weems up the middle to TEN 35 for no gain (J.Bynes, E.Penny).\n",
      "(4:45) (Punt formation) C.Jones right end ran ob at DAL 48 for 24 yards (J.Richard).\n",
      "(11:47) (Punt formation) J.Hekker pass incomplete deep right to M.Thomas (C.Riley).\n",
      "(10:00) (Punt formation) K.Byard pass deep right to D.Cruikshank for 66 yards, TOUCHDOWN.\n",
      "(9:17) (Punt formation) Direct snap to C.Davis.  C.Grant left end to JAX 46 for no gain (L.Sims).\n",
      "(11:03) (Punt formation) J.Hekker pass incomplete deep right to J.Reynolds.\n",
      "(6:59) (Punt formation) T.Hill pass short right to J.Hardee to NO 43 for 10 yards (S.Chandler).\n",
      "(13:30) (Punt formation) T.Hill up the middle to NO 38 for 4 yards (K.Young). Fake punt and direct snap to Hill.\n",
      "(2:18) (Punt formation) M.Dickson right end to SEA 12 for 9 yards (C.LeBlanc).\n",
      "(8:29) (Punt formation) J.Hekker pass short right to S.Shields to GB 43 for 12 yards (R.Greene).\n",
      "(6:33) (Punt formation) B.Anger pass incomplete short right to A.Cross (D.Mayo) [B.Jacobs].\n",
      "(8:39) (Punt formation) T.Wilson left end to DET 41 for 7 yards (G.Iloka).\n",
      "(7:26) (Punt formation) L.Thomas pass short right to R.Foster to NYJ 38 for 15 yards (C.Peake).\n",
      "(12:33) (Punt formation) J.Townsend left end ran ob at LAC 21 for 42 yards (A.Ekeler).\n",
      "(5:51) (Punt formation) Direct snap to L.Carroo.  L.Carroo up the middle to MIA 43 for 14 yards (T.Carson).\n",
      "(11:08) (Punt formation) B.Martinez reported in as eligible. Direct snap to R.Greene.  R.Greene left end to MIA 23 for 26 yards (M.Hull).\n",
      "(10:23) (Punt formation) Direct snap to J.Heath.  J.Heath up the middle to DAL 34 for 3 yards (J.Perkins).\n",
      "(12:58) (Punt formation) C.Wadman pass short left to A.Janovich pushed ob at LAC 41 for 12 yards (D.Watt).\n",
      "(13:21) (Punt formation) S.Koch pass deep middle to C.Moore to ATL 25 for 21 yards (D.Trufant).\n",
      "(8:18) (Punt formation) J.Hekker pass short right to G.Everett to LA 34 for 6 yards (B.Cunningham). Los Angeles Rams challenged the short of the line to gain ruling, and the play was REVERSED. (Punt formation) J.Hekker pass short right to G.Everett to LA 35 for 7 yards (B.Cunningham).\n",
      "(6:30) (Punt formation) Direct snap to B.Cunningham.  B.Cunningham up the middle to 50 for -1 yards (F.Brown; J.Kumerow).\n",
      "(:26) (Punt formation) R.Dixon right tackle to TEN 45 for 14 yards (A.Firkser). Fake Punt.\n",
      "(:43) (Punt formation) J.Hekker pass short right to K.Hodge to LA 37 for 7 yards (C.LeBlanc). Philadelphia challenged the pass completion ruling, and the play was REVERSED. (Punt formation) J.Hekker pass incomplete short right to K.Hodge.\n",
      "(9:46) (Punt formation) Direct snap to C.Fejedelem.  C.Fejedelem up the middle to CLE 48 for 6 yards (J.Whitehead; D.Hilliard).\n",
      "(4:34) (Punt formation) R.Miles up the middle to NYJ 35 for 4 yards (A.Morrison).\n",
      "(14:11) (Punt formation) Direct snap to C.Edmonds.  C.Edmonds right end pushed ob at ARI 45 for 20 yards (K.Hodge).\n",
      "(4:11) (Punt formation) R.Nix left guard to PIT 46 for 4 yards (C.Robertson, C.Banjo).\n",
      "(:11) (Punt formation) T.Way pass short left to J.Chesson to WAS 40 for 7 yards (A.Maddox).\n"
     ]
    }
   ],
   "source": [
    "# print(fake_punts.penalty)\n",
    "print(len(punts))\n",
    "print(len(fake_punts))\n",
    "# print(fake_punts.desc.head(50))\n",
    "for index,row in fake_punts.iterrows():\n",
    "    print(row['desc'])"
   ]
  },
  {
   "cell_type": "code",
   "execution_count": 62,
   "metadata": {},
   "outputs": [
    {
     "name": "stdout",
     "output_type": "stream",
     "text": [
      "0.048261660081752714\n",
      "1.2121050015935955\n",
      "1.3205605441151806\n",
      "3.2045973089653237\n"
     ]
    }
   ],
   "source": [
    "nfake_punts = punts.loc[punts['play_type']=='punt']\n",
    "print(nfake_punts.epa.mean())\n",
    "print(nfake_punts.epa.std())\n",
    "print(fake_punts.epa.mean())\n",
    "print(fake_punts.epa.std())"
   ]
  },
  {
   "cell_type": "code",
   "execution_count": 68,
   "metadata": {},
   "outputs": [],
   "source": [
    "fg = df.loc[df.play_type=='field_goal']"
   ]
  },
  {
   "cell_type": "code",
   "execution_count": 69,
   "metadata": {},
   "outputs": [],
   "source": [
    "fgf = df.loc[df.desc.str.contains('Field Goal formation|Kick formation')]\n",
    "fgf = fgf.loc[fgf.play_type!='extra_point']"
   ]
  },
  {
   "cell_type": "code",
   "execution_count": 72,
   "metadata": {},
   "outputs": [
    {
     "name": "stdout",
     "output_type": "stream",
     "text": [
      "9835\n",
      "2630\n",
      "289\n"
     ]
    }
   ],
   "source": [
    "fake_fg = fgf.loc[fgf.play_type!='field_goal']\n",
    "\n",
    "print(len(fg))\n",
    "print(len(fgf))\n",
    "print(len(fake_fg))"
   ]
  },
  {
   "cell_type": "code",
   "execution_count": 85,
   "metadata": {},
   "outputs": [
    {
     "name": "stdout",
     "output_type": "stream",
     "text": [
      "41\n"
     ]
    }
   ],
   "source": [
    "fake_fg = fake_fg.loc[~fake_fg.desc.str.contains('Aborted|Shotgun|PENALTY|Penalty|punts|FUMBLES')]\n",
    "\n",
    "print(len(fake_fg))"
   ]
  },
  {
   "cell_type": "code",
   "execution_count": 86,
   "metadata": {},
   "outputs": [
    {
     "name": "stdout",
     "output_type": "stream",
     "text": [
      "(:33) (Field Goal formation) H.Smith right end for 8 yards, TOUCHDOWN.\n",
      "(14:56) (Field Goal formation) B.Moorman pass deep left to R.Denney for 25 yards, TOUCHDOWN. Caught along sideline at NO 6.\n",
      "(11:09) (Field Goal formation) S.Weatherford pass short middle intended for B.Hartsock INTERCEPTED by J.Wendling at BUF 35. J.Wendling to BUF 35 for no gain (S.Pouha).\n",
      "(1:03) (Field Goal formation) Josh.Brown pass short left to D.Fells for 36 yards, TOUCHDOWN. DET-C.Avril was injured during the play. His return is Questionable.  Fake filed goal 5 lateraled to 3\n",
      "(:13) (Field Goal formation) P.Dawson pass short right to M.Furrey to DET 11 for 10 yards (L.Delmas).\n",
      "(7:35) (Field Goal formation) B.Maynard pass short middle to G.Olsen to STL 10 for no gain (D.Roach).\n",
      "(2:11) (Field Goal formation) M.Brunell pass incomplete short left to D.Dinkins.\n",
      "(:02) (Field Goal formation) H.Smith pass short left INTERCEPTED by A.Rouse at NYG 6. A.Rouse to WAS 45 for 49 yards (K.Golston). Offense started in field goal formation, then shifted into a swinging gate formation.\n",
      "(1:07) (Field Goal formation) J.Ryan left end to STL 42 for -9 yards (K.Dockery).\n",
      "(7:13) (Field Goal formation) M.Flynn pass incomplete deep left to A.Quarless [J.Allen]. Flynn lined up in shotgun formation after offense shifted from field goal formation.\n",
      "(4:09) (Field Goal formation) J.Feely right end for 5 yards, TOUCHDOWN.\n",
      "(1:33) (Field Goal formation) S.Lechler pass short right to K.Boss for 35 yards, TOUCHDOWN.\n",
      "(4:51) (Field Goal formation) C.Kluwe up the middle to OAK 43 for -12 yards (T.Branch).\n",
      "(9:58) (Field Goal formation) C.Daniel pass short right to J.Graham to NYG 10 for 9 yards (J.Pierre-Paul). Pass 3, Run 6\n",
      "(1:04) (Field Goal formation) D.Akers pass short left to M.Crabtree for 14 yards, TOUCHDOWN.\n",
      "(9:34) (Field Goal formation) Direct snap to K.Huber.  K.Huber right end to WAS 6 for -1 yards (Mad.Williams, D.Hall).\n",
      "(1:16) (Field Goal formation) J.Hekker pass short right to D.Amendola for 2 yards, TOUCHDOWN.\n",
      "(2:00) (Field Goal formation) J.Hekker left end to NE 44 for -9 yards (M.Cole).\n",
      "(10:41) (Field Goal formation) S.Suisham right end to NYG 4 for -1 yards (M.Coe). Unsuccessful fake field goal attempt.\n",
      "(5:44) (Field Goal formation) S.Koch left tackle for 7 yards, TOUCHDOWN. Sam Koch scores first NFL touchdown on fake field goal.\n",
      "(9:33) (Field Goal formation) Direct snap to B.Fields.  B.Fields pass incomplete short right to A.Fasano.\n",
      "(3:39) (Field Goal formation) S.Lanning pass short right to J.Cameron for 11 yards, TOUCHDOWN.\n",
      "(7:28) (Field Goal formation) M.Koenen pass incomplete deep left to B.Leonard (R.McClain).\n",
      "(7:27) (Field Goal formation) S.Suisham right end to BAL 44 for -12 yards (J.Miles). Fake field goal. McBriar hands off to Suisham who is tackled for a loss.\n",
      "(:26) (Field Goal formation) M.Koenen pass incomplete short right. Tampa Bay lined up in Field Goal formation, and Koenen threw an underhand incomplete pass.\n",
      "(11:24) (Field Goal formation) J.Ryan left end to WAS 27 for 5 yards (T.Murphy).\n",
      "(11:16) (Field Goal formation) D.Colquitt pass short middle to T.Kelce to PIT 6 for 6 yards (W.Gay).\n",
      "(4:27) (Field Goal formation) S.Koch pass short middle to N.Boyle to PIT 23 for -3 yards (S.Spence).\n",
      "(2:45) (Field Goal formation) L.McCown pass short left to B.Watson pushed ob at IND 1 for 25 yards (D.Jackson) [D.McDonald].\n",
      "(15:00) (Field Goal formation) L.Jones pass short left intended for A.Villanueva INTERCEPTED by J.Lane at SEA 22. J.Lane to PIT 24 for 54 yards (D.DeCastro).\n",
      "(3:23) (Field Goal formation) C.Santos pass short left to A.Sherman to OAK 28 for 3 yards (L.Alexander).\n",
      "(4:34) (Field Goal formation) J.Tucker pass incomplete short middle to C.Gillmore (D.Ihenacho). Fake Field Goal.\n",
      "(8:34) (Field Goal formation) P.McAfee left tackle to OAK 30 for no gain (D.Bates).\n",
      "(:23) (Field Goal formation) B.McManus left end to KC 29 for 6 yards (E.Murray).\n",
      "(:07) (Field Goal formation) J.Ryan pass short middle to L.Willson to ATL 21 for -4 yards (G.Jarrett).\n",
      "(2:39) (Field Goal formation) W.Lutz right end to TB 26 for 4 yards (K.Alexander).\n",
      "(5:10) (Field Goal formation) C.Bojorquez pass incomplete short middle to S.Hauschka [B.Trawick].\n",
      "(13:14) (Field Goal formation) J.Hekker right end pushed ob at NO 13 for 3 yards (C.Robertson). The Rams lined up in traditional field goal formation, but at the snap, #6. J.Hekker took the ball on a designed rushing play. Los Angeles Rams challenged the short of the line to gain ruling, and the play was Upheld. The ruling on the field stands. (Timeout #1 at 13:06.)\n",
      "(10:37) (Field Goal formation) L.Cooke pass short left to J.O'Shaughnessy to IND 26 for 4 yards (A.Walker). Indianapolis challenged the first down ruling, and the play was Upheld. The ruling on the field stands. (Timeout #1.)\n",
      "(:03) 78-A.Villanueva reported in as eligible. (Field Goal formation) C.Boswell pass short right to A.Villanueva for 2 yards, TOUCHDOWN.\n",
      "(10:41) (Field Goal formation) M.Prater pass short left to L.Toilolo for 8 yards, TOUCHDOWN.\n"
     ]
    }
   ],
   "source": [
    "for index,row in fake_fg.iterrows():\n",
    "    print(row['desc'])"
   ]
  },
  {
   "cell_type": "code",
   "execution_count": 87,
   "metadata": {},
   "outputs": [
    {
     "name": "stdout",
     "output_type": "stream",
     "text": [
      "0.00833870815623221\n",
      "1.5557706335273513\n",
      "-0.0576679213260375\n",
      "3.4365836204427676\n"
     ]
    }
   ],
   "source": [
    "print(fg.epa.mean())\n",
    "print(fg.epa.std())\n",
    "print(fake_fg.epa.mean())\n",
    "print(fake_fg.epa.std())"
   ]
  },
  {
   "cell_type": "code",
   "execution_count": null,
   "metadata": {},
   "outputs": [],
   "source": []
  }
 ],
 "metadata": {
  "kernelspec": {
   "display_name": "Python 3",
   "language": "python",
   "name": "python3"
  },
  "language_info": {
   "codemirror_mode": {
    "name": "ipython",
    "version": 3
   },
   "file_extension": ".py",
   "mimetype": "text/x-python",
   "name": "python",
   "nbconvert_exporter": "python",
   "pygments_lexer": "ipython3",
   "version": "3.7.3"
  }
 },
 "nbformat": 4,
 "nbformat_minor": 2
}
